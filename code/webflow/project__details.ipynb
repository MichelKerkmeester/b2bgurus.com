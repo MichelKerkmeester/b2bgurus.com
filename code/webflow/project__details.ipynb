{
 "cells": [
  {
   "cell_type": "code",
   "execution_count": null,
   "metadata": {
    "vscode": {
     "languageId": "html"
    }
   },
   "outputs": [],
   "source": [
    "JS | Header (End)\n",
    "_________________\n",
    "\n",
    "..."
   ]
  },
  {
   "cell_type": "code",
   "execution_count": null,
   "metadata": {
    "vscode": {
     "languageId": "html"
    }
   },
   "outputs": [],
   "source": [
    "JS | Footer (Before)\n",
    "____________________\n",
    "\n",
    "<!-- CMS pagination  -->\n",
    "<!-- Prev / Next -->\n",
    "<script>\n",
    "    window.addEventListener(\"load\", function () {\n",
    "        // Wait until all scripts/resources are loaded\n",
    "\n",
    "        // Select all components with the specified attribute\n",
    "        document.querySelectorAll(\"[cmsnext-element='component']\").forEach((componentEl) => {\n",
    "            const cmsListEl = componentEl.querySelector(\".w-dyn-items\"),\n",
    "                cmsItemEl = Array.from(cmsListEl.children);\n",
    "\n",
    "            let currentItemEl = cmsItemEl.find((item) => item.querySelector(\".w--current\")),\n",
    "                nextItemEl = currentItemEl.nextElementSibling,\n",
    "                prevItemEl = currentItemEl.previousElementSibling;\n",
    "\n",
    "            // Loop to the first item if the next item doesn't exist\n",
    "            if (componentEl.getAttribute(\"cmsnext-loop\") === \"true\") {\n",
    "                if (!nextItemEl) nextItemEl = cmsItemEl[0];\n",
    "                if (!prevItemEl) prevItemEl = cmsItemEl[cmsItemEl.length - 1];\n",
    "            }\n",
    "\n",
    "            let displayEl = nextItemEl;\n",
    "\n",
    "            // Remove all items except the display element\n",
    "            cmsItemEl.forEach((item) => {\n",
    "                if (item !== displayEl) item.remove();\n",
    "            });\n",
    "        });\n",
    "    });\n",
    "</script>\n",
    "\n",
    "<!-- CMS pagination -->\n",
    "<!-- Card hover -->\n",
    "<script>\n",
    "    window.addEventListener(\"load\", function () {\n",
    "        // Wait until all scripts/resources are loaded\n",
    "\n",
    "        // Select all project images\n",
    "        const projectImages = document.querySelectorAll(\".project--pgn-image\");\n",
    "\n",
    "        projectImages.forEach((image) => {\n",
    "            // Get the footer element within the current image\n",
    "            const footer = image.querySelector(\".project--pgn-footer\");\n",
    "\n",
    "            // Add hover event listeners to the image\n",
    "            image.addEventListener(\"mouseenter\", () => {\n",
    "                // Animate background color change on hover with ease-in effect\n",
    "                gsap.to(footer, {\n",
    "                    duration: 0.2,\n",
    "                    backgroundColor: \"rgba(9, 25, 29, 0.50)\",\n",
    "                    borderTopColor: \"#fefdfd\",\n",
    "                    borderTopWidth: \"1px\",\n",
    "                    borderTopStyle: \"solid\",\n",
    "                    ease: \"power1.in\",\n",
    "                });\n",
    "            });\n",
    "\n",
    "            image.addEventListener(\"mouseleave\", () => {\n",
    "                // Reset background color when hover ends with ease-in effect\n",
    "                gsap.to(footer, {\n",
    "                    duration: 0.1,\n",
    "                    backgroundColor: \"rgba(19, 51, 58, 0.95)\",\n",
    "                    borderTopColor: \"rgba(19, 51, 58, 0.95)\",\n",
    "                    borderTopWidth: \"1px\",\n",
    "                    borderTopStyle: \"solid\",\n",
    "                    ease: \"power1.in\",\n",
    "                });\n",
    "            });\n",
    "        });\n",
    "    });\n",
    "</script>"
   ]
  }
 ],
 "metadata": {
  "kernelspec": {
   "display_name": "Python 3",
   "language": "python",
   "name": "python3"
  },
  "language_info": {
   "name": "python",
   "version": "3.9.6"
  },
  "orig_nbformat": 4
 },
 "nbformat": 4,
 "nbformat_minor": 2
}
