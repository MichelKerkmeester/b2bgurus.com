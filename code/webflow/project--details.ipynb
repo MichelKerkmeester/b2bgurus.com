{
 "cells": [
  {
   "cell_type": "code",
   "execution_count": null,
   "metadata": {
    "vscode": {
     "languageId": "html"
    }
   },
   "outputs": [],
   "source": [
    "JS | Header (End)\n",
    "_________________\n",
    "\n",
    "<!-- Finsweet - Rich text -->\n",
    "<script defer src=\"https://cdn.jsdelivr.net/npm/@finsweet/attributes-richtext@1/richtext.js\"></script>"
   ]
  },
  {
   "cell_type": "code",
   "execution_count": null,
   "metadata": {
    "vscode": {
     "languageId": "html"
    }
   },
   "outputs": [],
   "source": [
    "JS | Footer (Before)\n",
    "____________________\n",
    "\n",
    "<!-- CMS pagination  -->\n",
    "<script>\n",
    "    // Prev / Next\n",
    "    document.addEventListener(\"DOMContentLoaded\", function () {\n",
    "        document\n",
    "            .querySelectorAll(\"[cmsnext-element='component']\")\n",
    "            .forEach((componentEl) => {\n",
    "                const cmsListEl = componentEl.querySelector(\".w-dyn-items\");\n",
    "                const cmsItemEl = Array.from(cmsListEl.children);\n",
    "\n",
    "                let currentItemEl = cmsItemEl.find((item) =>\n",
    "                    item.querySelector(\".w--current\")\n",
    "                );\n",
    "                let nextItemEl = currentItemEl.nextElementSibling;\n",
    "                let prevItemEl = currentItemEl.previousElementSibling;\n",
    "\n",
    "                // Loop to the first item if the next item doesn't exist\n",
    "                if (componentEl.getAttribute(\"cmsnext-loop\") === \"true\") {\n",
    "                    if (!nextItemEl) nextItemEl = cmsItemEl[0];\n",
    "                    if (!prevItemEl) prevItemEl = cmsItemEl[cmsItemEl.length - 1];\n",
    "                }\n",
    "\n",
    "                let displayEl = nextItemEl;\n",
    "\n",
    "                // Remove all items except the display element\n",
    "                cmsItemEl.forEach((item) => {\n",
    "                    if (item !== displayEl) item.remove();\n",
    "                });\n",
    "            });\n",
    "\n",
    "        // Card Hover\n",
    "        const projectImages = document.querySelectorAll(\".project--pgn-image\");\n",
    "\n",
    "        projectImages.forEach((image) => {\n",
    "            const footer = image.querySelector(\".project--pgn-footer\");\n",
    "\n",
    "            image.addEventListener(\"mouseenter\", () => {\n",
    "                gsap.to(footer, {\n",
    "                    duration: 0.2,\n",
    "                    backgroundColor: \"rgba(9, 25, 29, 0.50)\",\n",
    "                    borderTopColor: \"#fefdfd\",\n",
    "                    borderTopWidth: \"1px\",\n",
    "                    borderTopStyle: \"solid\",\n",
    "                    ease: \"power1.in\",\n",
    "                });\n",
    "            });\n",
    "\n",
    "            image.addEventListener(\"mouseleave\", () => {\n",
    "                gsap.to(footer, {\n",
    "                    duration: 0.1,\n",
    "                    backgroundColor: \"rgba(19, 51, 58, 0.95)\",\n",
    "                    borderTopColor: \"rgba(19, 51, 58, 0.95)\",\n",
    "                    borderTopWidth: \"1px\",\n",
    "                    borderTopStyle: \"solid\",\n",
    "                    ease: \"power1.in\",\n",
    "                });\n",
    "            });\n",
    "        });\n",
    "    });\n",
    "</script>"
   ]
  }
 ],
 "metadata": {
  "kernelspec": {
   "display_name": "Python 3",
   "language": "python",
   "name": "python3"
  },
  "language_info": {
   "name": "python",
   "version": "3.9.6"
  },
  "orig_nbformat": 4
 },
 "nbformat": 4,
 "nbformat_minor": 2
}
