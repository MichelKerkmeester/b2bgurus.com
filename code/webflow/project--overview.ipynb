{
 "cells": [
  {
   "cell_type": "code",
   "execution_count": null,
   "metadata": {
    "vscode": {
     "languageId": "html"
    }
   },
   "outputs": [],
   "source": [
    "JS | Header (End)\n",
    "_________________\n",
    "\n",
    "..."
   ]
  },
  {
   "cell_type": "code",
   "execution_count": null,
   "metadata": {
    "vscode": {
     "languageId": "html"
    }
   },
   "outputs": [],
   "source": [
    "JS | Footer (Before)\n",
    "____________________\n",
    "\n",
    "<!-- CMS collection list-->\n",
    "<!-- Apply attributes to individual CMS list items -->\n",
    "<script src=\"https://cdn.jsdelivr.net/gh/michelkerkmeester/b2bgurus.com/code/js/cms--attributes.min.js\"></script>\n",
    "\n",
    "<!-- Hero -->\n",
    "<!-- CMS Marquee -->\n",
    "<script src=\"https://cdn.jsdelivr.net/gh/michelkerkmeester/b2bgurus.com/code/js/cms--marquee.min.js\"></script>\n",
    "\n",
    "<!-- Projects -->\n",
    "<!-- GSAP Parallax -->\n",
    "<script>\n",
    "    document.addEventListener(\"DOMContentLoaded\", function () {\n",
    "      gsap.registerPlugin(ScrollTrigger);\n",
    "  \n",
    "      const projectListItems = document.querySelectorAll(\".project--list-item\");\n",
    "      if (projectListItems.length === 0) return;\n",
    "  \n",
    "      function isMobile() {\n",
    "        return window.innerWidth < 992;\n",
    "      }\n",
    "  \n",
    "      // Lerp function for smooth interpolation\n",
    "      function lerp(start, end, t) {\n",
    "        return start * (1 - t) + end * t;\n",
    "      }\n",
    "  \n",
    "      projectListItems.forEach((item, index) => {\n",
    "        const suffix = isMobile() ? \"--mobile\" : \"\";\n",
    "        const card = item.querySelector(`#project-card${suffix}`);\n",
    "        const imageWrapper = card.querySelector(`#project-image-w${suffix}`);\n",
    "        const image = imageWrapper.querySelector(`#project-image${suffix}`);\n",
    "        const illustration = item.querySelector(`#project-bg${suffix}`);\n",
    "  \n",
    "        const direction = index % 2 === 0 ? -100 : 100;\n",
    "  \n",
    "        // Initial states\n",
    "        gsap.set(card, { scale: 0.8, yPercent: 50 });\n",
    "        gsap.set(image, { scale: 1.4 });\n",
    "        gsap.set(illustration, { scale: 0.7, yPercent: 30, opacity: 0 });\n",
    "  \n",
    "        let progress = 0;\n",
    "        let targetProgress = 0;\n",
    "  \n",
    "        // Speed control: Adjust this value to control overall animation speed\n",
    "        // Lower values = slower animation, Higher values = faster animation\n",
    "        const speed = 0.1;\n",
    "  \n",
    "        ScrollTrigger.create({\n",
    "          trigger: item,\n",
    "          start: \"top 90%\",\n",
    "          end: \"bottom 75%\",\n",
    "          onUpdate: (self) => {\n",
    "            targetProgress = self.progress;\n",
    "          },\n",
    "        });\n",
    "  \n",
    "        function animateItem() {\n",
    "          progress = lerp(progress, targetProgress, speed);\n",
    "  \n",
    "          // Card animation\n",
    "          gsap.to(card, {\n",
    "            scale: 0.8 + 0.2 * progress, // Scales from 0.8 to 1\n",
    "            yPercent: 50 - 50 * progress, // Moves up by 50% of its height\n",
    "            duration: 0,\n",
    "          });\n",
    "  \n",
    "          // Illustration animation\n",
    "          gsap.to(illustration, {\n",
    "            opacity: progress, // Fades in from 0 to 1\n",
    "            scale: 0.7 + 0.3 * progress, // Scales from 0.7 to 1\n",
    "            yPercent: 30 - 30 * progress, // Moves up by 30% of its height\n",
    "            duration: 0,\n",
    "          });\n",
    "  \n",
    "          // Image animation\n",
    "          gsap.to(image, {\n",
    "            scale: 1.4 - 0.4 * progress, // Scales from 1.4 to 1\n",
    "            duration: 0,\n",
    "          });\n",
    "  \n",
    "          requestAnimationFrame(animateItem);\n",
    "        }\n",
    "  \n",
    "        animateItem();\n",
    "      });\n",
    "    });\n",
    "  </script>"
   ]
  }
 ],
 "metadata": {
  "kernelspec": {
   "display_name": "Python 3",
   "language": "python",
   "name": "python3"
  },
  "language_info": {
   "name": "python",
   "version": "3.9.6"
  },
  "orig_nbformat": 4
 },
 "nbformat": 4,
 "nbformat_minor": 2
}
