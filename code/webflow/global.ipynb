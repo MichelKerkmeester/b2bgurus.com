{
 "cells": [
  {
   "cell_type": "code",
   "execution_count": null,
   "metadata": {
    "vscode": {
     "languageId": "html"
    }
   },
   "outputs": [],
   "source": [
    "JS | Header (End)\n",
    "_________________\n",
    "\n",
    "<!-- GSAP - Library -->\n",
    "<script src=\"https://cdn.jsdelivr.net/npm/gsap@3.12.5/dist/gsap.min.js\"></script>\n",
    "\n",
    "<!-- GSAP - Scroll Trigger -->\n",
    "<script src=\"https://cdn.jsdelivr.net/npm/gsap@3.12.5/dist/ScrollTrigger.min.js\"></script>\n",
    "\n",
    "<!-- VScode - Local Development -->\n",
    "<script defer src=\"http://localhost:3000/index.js\"></script>\n",
    "<link rel=\"stylesheet\" href=\"http://localhost:3000/index.css\">"
   ]
  },
  {
   "cell_type": "code",
   "execution_count": null,
   "metadata": {
    "vscode": {
     "languageId": "html"
    }
   },
   "outputs": [],
   "source": [
    "JS | Footer (Before)\n",
    "____________________\n",
    "\n",
    "<!-- Cookie Consent -->\n",
    "<script src=\"https://cdn.jsdelivr.net/npm/js-cookie@2/src/js.cookie.min.js\"></script>\n",
    "<script src=\"https://cdn.jsdelivr.net/gh/michelkerkmeester/b2bgurus.com/code/js/function/custom-consent.min.js\"></script>\n",
    "\n",
    "<!-- Navigation -->\n",
    "<!-- Hide/Show on scroll -->\n",
    "<script src=\"https://cdn.jsdelivr.net/gh/michelkerkmeester/b2bgurus.com/code/js/scroll/navigation-show-hide.min.js\"></script>\n",
    "\n",
    "<!-- Text link -->\n",
    "<!-- Animated line on Hover -->\n",
    "<script src=\"https://cdn.jsdelivr.net/gh/michelkerkmeester/b2bgurus.com/code/js/hover/btn-link.min.js\"></script>\n",
    "\n",
    "<!-- Input field  -->\n",
    "<!-- Adjustable placeholder text -->\n",
    "<script src=\"https://cdn.jsdelivr.net/gh/michelkerkmeester/b2bgurus.com/code/js/function/input-placeholder.min.js\"></script>\n",
    "\n",
    "<!-- Automatically change copyright year -->\n",
    "<script src=\"https://cdn.jsdelivr.net/gh/michelkerkmeester/b2bgurus.com/code/js/function/copyright-year.min.js\"></script>\n",
    "\n",
    "<!-- Lenis.js - Smooth Scrolling -->\n",
    "<script\n",
    "  data-id-scroll\n",
    "  data-autoinit=\"true\"\n",
    "  data-duration=\"1\" \n",
    "  data-orientation=\"vertical\"\n",
    "  data-smoothWheel=\"true\"\n",
    "  data-smoothTouch=\"false\"\n",
    "  data-touchMultiplier=\"1.5\"\n",
    "  data-easing=\"(t) => (t === 1 ? 1 : 1 - Math.pow(2, -10 * t))\"\n",
    "  data-useOverscroll=\"true\"\n",
    "  data-useControls=\"true\"\n",
    "  data-useAnchor=\"true\"\n",
    "  data-useRaf=\"true\"\n",
    "  data-infinite=\"false\"\n",
    "  defer\n",
    "  src=\"https://uploads-ssl.webflow.com/645e0e1ff7fdb6dc8c85f3a2/653b82ecf87f552a98ac66b9_lenis-master-offbrand.02.txt\"\n",
    "></script>"
   ]
  }
 ],
 "metadata": {
  "kernelspec": {
   "display_name": "Python 3",
   "language": "python",
   "name": "python3"
  },
  "language_info": {
   "name": "python",
   "version": "3.9.6"
  },
  "orig_nbformat": 4
 },
 "nbformat": 4,
 "nbformat_minor": 2
}
