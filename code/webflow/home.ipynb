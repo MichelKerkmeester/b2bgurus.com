{
 "cells": [
  {
   "cell_type": "code",
   "execution_count": null,
   "metadata": {
    "vscode": {
     "languageId": "html"
    }
   },
   "outputs": [],
   "source": [
    "JS | Header (End)\n",
    "_________________\n",
    "\n",
    "<!-- Finsweet - Load More -->\n",
    "<script async src=\"https://cdn.jsdelivr.net/npm/@finsweet/attributes-cmsload@1/cmsload.js\"></script>"
   ]
  },
  {
   "cell_type": "code",
   "execution_count": null,
   "metadata": {
    "vscode": {
     "languageId": "html"
    }
   },
   "outputs": [],
   "source": [
    "JS | Footer (Before)\n",
    "____________________\n",
    "\n",
    "<!-- Hero -->\n",
    "<!-- GSAP Marquee -->\n",
    "<script src=\"https://cdn.jsdelivr.net/gh/michelkerkmeester/b2bgurus.com/code/js/function/gsap-marquee.min.js\"></script>\n",
    "\n",
    "<!-- CMS collection list-->\n",
    "<!-- Apply attributes to individual CMS list items -->\n",
    "<script src=\"https://cdn.jsdelivr.net/gh/michelkerkmeester/b2bgurus.com/code/js/cms/attributes.min.js\"></script>\n",
    "\n",
    "<!-- Projects -->\n",
    "<!-- Assign FS Load More to list -->\n",
    "<script src=\"https://cdn.jsdelivr.net/gh/michelkerkmeester/b2bgurus.com/code/js/cms//assign-fs-load.min.js\"></script>\n",
    "\n",
    "<!-- Services -->\n",
    "<!-- GSAP Accordion -->\n",
    "<script\n",
    "    src=\"https://cdn.jsdelivr.net/gh/michelkerkmeester/b2bgurus.com/code/js/function/gsap-accordion.min.js\"></script>"
   ]
  }
 ],
 "metadata": {
  "kernelspec": {
   "display_name": "Python 3",
   "language": "python",
   "name": "python3"
  },
  "language_info": {
   "name": "python",
   "version": "3.9.6"
  },
  "orig_nbformat": 4
 },
 "nbformat": 4,
 "nbformat_minor": 2
}
