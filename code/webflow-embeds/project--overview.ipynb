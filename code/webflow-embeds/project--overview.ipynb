{
 "cells": [
  {
   "cell_type": "code",
   "execution_count": null,
   "metadata": {
    "vscode": {
     "languageId": "html"
    }
   },
   "outputs": [],
   "source": [
    "JS | Header (End)\n",
    "_________________\n",
    "\n",
    "..."
   ]
  },
  {
   "cell_type": "code",
   "execution_count": null,
   "metadata": {
    "vscode": {
     "languageId": "html"
    }
   },
   "outputs": [],
   "source": [
    "JS | Footer (Before)\n",
    "____________________\n",
    "\n",
    "<!-- CMS list -->\n",
    "<!-- Apply attributes to individual items -->\n",
    "<script src=\"https://cdn.jsdelivr.net/gh/michelkerkmeester/b2bgurus.com/code/js/cms/attributes.min.js\"></script>\n",
    "\n",
    "<!-- Hero -->\n",
    "<!-- CMS Marquee -->\n",
    "<script src=\"https://cdn.jsdelivr.net/gh/michelkerkmeester/b2bgurus.com/code/js/cms/marquee.min.js\"></script>\n",
    "\n",
    "<!-- Projects -->\n",
    "<!-- GSAP Parallax -->\n",
    "<script\n",
    "  src=\"https://cdn.jsdelivr.net/gh/michelkerkmeester/b2bgurus.com/code/js/gsap/projects--parallax.min.js\"></script>"
   ]
  }
 ],
 "metadata": {
  "kernelspec": {
   "display_name": "Python 3",
   "language": "python",
   "name": "python3"
  },
  "language_info": {
   "name": "python",
   "version": "3.9.6"
  },
  "orig_nbformat": 4
 },
 "nbformat": 4,
 "nbformat_minor": 2
}
