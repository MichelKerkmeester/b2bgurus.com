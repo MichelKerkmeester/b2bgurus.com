{
 "cells": [
  {
   "cell_type": "code",
   "execution_count": null,
   "metadata": {
    "vscode": {
     "languageId": "html"
    }
   },
   "outputs": [],
   "source": [
    "JS | Header (End)\n",
    "_________________\n",
    "\n",
    "..."
   ]
  },
  {
   "cell_type": "code",
   "execution_count": null,
   "metadata": {
    "vscode": {
     "languageId": "html"
    }
   },
   "outputs": [],
   "source": [
    "JS | Footer (Before)\n",
    "____________________\n",
    "\n",
    "<!-- CMS collection list-->\n",
    "<!-- Apply attributes to individual CMS list items -->\n",
    "<script src=\"https://cdn.jsdelivr.net/gh/michelkerkmeester/b2bgurus.com/code/js/cms--attributes.min.js\"></script>\n",
    "\n",
    "<!-- Hero -->\n",
    "<!-- CMS Marquee -->\n",
    "<script src=\"https://cdn.jsdelivr.net/gh/michelkerkmeester/b2bgurus.com/code/js/cms--marquee.min.js\"></script>\n",
    "\n",
    "<!-- Projects -->\n",
    "<!-- GSAP Parallax -->\n",
    "<script>\n",
    "    document.addEventListener(\"DOMContentLoaded\", function () {\n",
    "        gsap.registerPlugin(ScrollTrigger); // Register the ScrollTrigger plugin\n",
    "\n",
    "        const projectListItems = document.querySelectorAll(\".project--list-item\"); // Select all project list items\n",
    "        if (projectListItems.length === 0) return; // Exit if no project list items found\n",
    "\n",
    "        function lerp(start, end, t) {\n",
    "            return start * (1 - t) + end * t; // Linear interpolation function\n",
    "        }\n",
    "\n",
    "        projectListItems.forEach((item, index) => {\n",
    "            const card = item.querySelector(`[id^=\"project-card\"]`); // Select the project card\n",
    "            const imageWrapper = card.querySelector(`[id^=\"project-image-w\"]`); // Select the image wrapper\n",
    "            const image = imageWrapper.querySelector(`[id^=\"project-image\"]`); // Select the project image\n",
    "            const illustration = item.querySelector(`[id^=\"project-bg\"]`); // Select the project illustration (if exists)\n",
    "\n",
    "            // Set initial states\n",
    "            gsap.set(card, { scale: 0.8, yPercent: 50 });\n",
    "            gsap.set(image, { scale: 1.4 });\n",
    "            if (illustration) {\n",
    "                gsap.set(illustration, { scale: 0.7, yPercent: 30, opacity: 0 });\n",
    "            }\n",
    "\n",
    "            let progress = 0;\n",
    "            let targetProgress = 0;\n",
    "\n",
    "            // Speed control: Adjust this value to control overall animation speed\n",
    "            const speed = 0.1; // Lower values = slower animation, Higher values = faster animation\n",
    "\n",
    "            // Create a ScrollTrigger for each project list item\n",
    "            ScrollTrigger.create({\n",
    "                trigger: item,\n",
    "                start: \"top 90%\",\n",
    "                end: \"bottom 80%\",\n",
    "                onUpdate: (self) => {\n",
    "                    targetProgress = self.progress;\n",
    "                },\n",
    "            });\n",
    "\n",
    "            function animateItem() {\n",
    "                progress = lerp(progress, targetProgress, speed); // Update progress using lerp\n",
    "\n",
    "                // Animate the project card\n",
    "                gsap.to(card, {\n",
    "                    scale: 0.8 + 0.2 * progress,\n",
    "                    yPercent: 50 - 50 * progress,\n",
    "                    duration: 0,\n",
    "                });\n",
    "\n",
    "                // Animate the project image\n",
    "                gsap.to(image, {\n",
    "                    scale: 1.4 - 0.4 * progress,\n",
    "                    duration: 0,\n",
    "                });\n",
    "\n",
    "                // Animate the project illustration (if exists)\n",
    "                if (illustration) {\n",
    "                    gsap.to(illustration, {\n",
    "                        opacity: progress,\n",
    "                        scale: 0.7 + 0.3 * progress,\n",
    "                        yPercent: 30 - 30 * progress,\n",
    "                        duration: 0,\n",
    "                    });\n",
    "                }\n",
    "\n",
    "                requestAnimationFrame(animateItem); // Request next animation frame\n",
    "            }\n",
    "\n",
    "            animateItem(); // Start the animation loop\n",
    "        });\n",
    "    });\n",
    "</script>"
   ]
  }
 ],
 "metadata": {
  "kernelspec": {
   "display_name": "Python 3",
   "language": "python",
   "name": "python3"
  },
  "language_info": {
   "name": "python",
   "version": "3.9.6"
  },
  "orig_nbformat": 4
 },
 "nbformat": 4,
 "nbformat_minor": 2
}
