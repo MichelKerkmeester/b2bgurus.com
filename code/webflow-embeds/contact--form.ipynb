{
 "cells": [
  {
   "cell_type": "code",
   "execution_count": null,
   "metadata": {
    "vscode": {
     "languageId": "html"
    }
   },
   "outputs": [],
   "source": [
    "JS | Header (End)\n",
    "_________________\n",
    "\n",
    "<!-- Finsweet - Custom form select -->\n",
    "<script defer src=\"https://cdn.jsdelivr.net/npm/@finsweet/attributes-selectcustom@1/selectcustom.js\"></script>"
   ]
  },
  {
   "cell_type": "code",
   "execution_count": null,
   "metadata": {
    "vscode": {
     "languageId": "html"
    }
   },
   "outputs": [],
   "source": [
    "JS | Footer (Before)\n",
    "____________________\n",
    "\n",
    "<!-- Hero -->\n",
    "<!-- CMS Marquee -->\n",
    "<script src=\"https://cdn.jsdelivr.net/gh/michelkerkmeester/b2bgurus.com/code/js/marquee--clients.min.js\"></script>\n",
    "\n",
    "\n",
    "<!-- Form -->\n",
    "<script src=\"https://cdn.jsdelivr.net/gh/videsigns/webflow-tools@latest/multi-step.min.js\"> </script>\n",
    "\n",
    "<!-- Spam Protection -->\n",
    "<script src=\"https://unpkg.com/@botpoison/browser\" async></script>\n",
    "<script type=\"text/javascript\">\n",
    "  $('form[action^=\"https://submit-form.com\"]').each(function (i, el) {\n",
    "    var form = $(el);\n",
    "    form.submit(function (e) {\n",
    "      e.preventDefault();\n",
    "      form = $(e.target);\n",
    "      var action = form.attr(\"action\");\n",
    "      var botpoison = new Botpoison({\n",
    "        publicKey: \"pk_fa1ec2db-b62a-4826-a595-071175669959\",\n",
    "      });\n",
    "\n",
    "      botpoison\n",
    "        .challenge()\n",
    "        .then(function (result) {\n",
    "          // Append the Botpoison result to the form\n",
    "          form.append('<input type=\"hidden\" name=\"_botpoison\" value=\"' + result.solution + '\" />');\n",
    "\n",
    "          // Allow the form to be submitted normally, triggering any on-submit actions like redirects or Formly steps\n",
    "          form.off('submit'); // Unbind the submit event to avoid infinite loop\n",
    "          form.submit();\n",
    "        })\n",
    "        .catch(function () {\n",
    "          var parent = $(form.parent());\n",
    "          parent.find(\".w-form-fail\").css(\"display\", \"block\");\n",
    "        });\n",
    "    });\n",
    "  });\n",
    "</script>"
   ]
  }
 ],
 "metadata": {
  "kernelspec": {
   "display_name": "Python 3",
   "language": "python",
   "name": "python3"
  },
  "language_info": {
   "name": "python",
   "version": "3.9.6"
  },
  "orig_nbformat": 4
 },
 "nbformat": 4,
 "nbformat_minor": 2
}
