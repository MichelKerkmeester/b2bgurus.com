{
 "cells": [
  {
   "cell_type": "code",
   "execution_count": null,
   "metadata": {
    "vscode": {
     "languageId": "html"
    }
   },
   "outputs": [],
   "source": [
    "JS | Header (End)\n",
    "_________________\n",
    "\n",
    "<!-- Finsweet - Rich text -->\n",
    "<script defer src=\"https://cdn.jsdelivr.net/npm/@finsweet/attributes-richtext@1/richtext.js\"></script>"
   ]
  },
  {
   "cell_type": "code",
   "execution_count": null,
   "metadata": {
    "vscode": {
     "languageId": "html"
    }
   },
   "outputs": [],
   "source": [
    "JS | Footer (Before)\n",
    "____________________\n",
    "\n",
    "<!-- Start at the top of the page on page refresh -->\n",
    "<script>\n",
    "    history.scrollRestoration = \"manual\";\n",
    "\n",
    "    window.addEventListener(\"beforeunload\", function () {\n",
    "        window.scrollTo(0, 0);\n",
    "    });\n",
    "</script>\n",
    "\n",
    "<!-- CMS list -->\n",
    "<!-- Apply attributes to individual items -->\n",
    "<script>\n",
    "    document.addEventListener(\"DOMContentLoaded\", function () {\n",
    "        function applyAttributesToItems(selector, attributeName) {\n",
    "            const items = document.querySelectorAll(selector); // Select all items\n",
    "\n",
    "            if (items.length === 0) {\n",
    "                // console.warn(`No items found for selector: ${selector}`);\n",
    "                return;\n",
    "            }\n",
    "\n",
    "            items.forEach((item) => {\n",
    "                const attributeField = item.getAttribute(\"cms-item\"); // Use the cms-item attribute\n",
    "                if (attributeField) {\n",
    "                    // Check if the cms-item attribute exists\n",
    "                    item.setAttribute(attributeName, attributeField); // Set the custom attribute\n",
    "                    console.log(`Set ${attributeName} to ${attributeField} for item`, item);\n",
    "                } else {\n",
    "                    console.warn(\"cms-item attribute not found in item:\", item); // Warn if cms-item is not found\n",
    "                }\n",
    "            });\n",
    "        }\n",
    "\n",
    "        // Apply attributes to project, process, and services items\n",
    "        applyAttributesToItems(\".office--list-item\", \"office--attribute\");\n",
    "        applyAttributesToItems(\".team--list-item\", \"team--attribute\");\n",
    "    });\n",
    "</script>"
   ]
  }
 ],
 "metadata": {
  "kernelspec": {
   "display_name": "Python 3",
   "language": "python",
   "name": "python3"
  },
  "language_info": {
   "name": "python",
   "version": "3.9.6"
  },
  "orig_nbformat": 4
 },
 "nbformat": 4,
 "nbformat_minor": 2
}
